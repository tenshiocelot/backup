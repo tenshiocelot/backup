{
 "cells": [
  {
   "cell_type": "code",
   "execution_count": 1,
   "metadata": {},
   "outputs": [],
   "source": [
    "def valid_answer(answer):\n",
    "    return 1<=answer<=10\n",
    "\n",
    "\n",
    "def input1():\n",
    "    while True:\n",
    "        try:\n",
    "            answer = int(input(\"please give a number between 1 and 10: \"))\n",
    "            assert (valid_answer(answer)), 'number not in right range, please try again!!' \n",
    "            \n",
    "        except AssertionError as error:\n",
    "            print(error)\n",
    "            continue\n",
    "        except:\n",
    "            print('wrong input..')\n",
    "            continue\n",
    "        else:\n",
    "            print(answer)\n",
    "            break"
   ]
  },
  {
   "cell_type": "code",
   "execution_count": 2,
   "metadata": {},
   "outputs": [
    {
     "name": "stdout",
     "output_type": "stream",
     "text": [
      "please give a number between 1 and 10: asdf\\\n",
      "wrong input..\n",
      "please give a number between 1 and 10: 11\n",
      "number not in right range, please try again!!\n",
      "please give a number between 1 and 10: 10\n",
      "10\n"
     ]
    }
   ],
   "source": [
    "input1()"
   ]
  },
  {
   "cell_type": "code",
   "execution_count": null,
   "metadata": {},
   "outputs": [],
   "source": [
    "for cls in"
   ]
  },
  {
   "cell_type": "code",
   "execution_count": null,
   "metadata": {},
   "outputs": [],
   "source": []
  }
 ],
 "metadata": {
  "kernelspec": {
   "display_name": "Python 3",
   "language": "python",
   "name": "python3"
  },
  "language_info": {
   "codemirror_mode": {
    "name": "ipython",
    "version": 3
   },
   "file_extension": ".py",
   "mimetype": "text/x-python",
   "name": "python",
   "nbconvert_exporter": "python",
   "pygments_lexer": "ipython3",
   "version": "3.7.1"
  }
 },
 "nbformat": 4,
 "nbformat_minor": 2
}
